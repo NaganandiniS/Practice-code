{
 "cells": [
  {
   "cell_type": "markdown",
   "metadata": {},
   "source": [
    "# Assignment"
   ]
  },
  {
   "cell_type": "markdown",
   "metadata": {},
   "source": [
    "Q1. Write the Python class to convert an integer to a roman numeral?"
   ]
  },
  {
   "cell_type": "code",
   "execution_count": 5,
   "metadata": {},
   "outputs": [
    {
     "name": "stdout",
     "output_type": "stream",
     "text": [
      "CDL\n",
      "LXIII\n"
     ]
    }
   ],
   "source": [
    "class conv_int_rom:\n",
    "    def int_to_Roman(self, num):\n",
    "        val = [1000, 900, 500, 400, 100, 90, 50, 40,10, 9, 5, 4,1]\n",
    "        syb = [\"M\", \"CM\", \"D\", \"CD\",\"C\", \"XC\", \"L\", \"XL\", \"X\", \"IX\", \"V\", \"IV\",\"I\"]\n",
    "\n",
    "        roman_num = ''\n",
    "        i = 0\n",
    "        while  num > 0:\n",
    "            for _ in range(num // val[i]):\n",
    "                roman_num += syb[i]\n",
    "                num -= val[i]\n",
    "            i += 1\n",
    "        return roman_num\n",
    "\n",
    "print(conv_int_rom().int_to_Roman(450))\n",
    "print(conv_int_rom().int_to_Roman(63)) \n"
   ]
  },
  {
   "cell_type": "markdown",
   "metadata": {},
   "source": [
    "Q2 Write the Python class to convert a Roman numeral to an integer?\n"
   ]
  },
  {
   "cell_type": "code",
   "execution_count": 7,
   "metadata": {},
   "outputs": [
    {
     "name": "stdout",
     "output_type": "stream",
     "text": [
      "63\n",
      "450\n",
      "105\n"
     ]
    }
   ],
   "source": [
    "class conv_rom_int:\n",
    "    def roman_to_int(self, s):\n",
    "        rom_val = {'I': 1, 'V': 5, 'X': 10, 'L': 50, 'C': 100, 'D': 500, 'M': 1000}\n",
    "        int_val = 0\n",
    "        for i in range(len(s)):\n",
    "            if i > 0 and rom_val[s[i]] > rom_val[s[i - 1]]:\n",
    "                int_val += rom_val[s[i]] - 2 * rom_val[s[i - 1]]\n",
    "            else:\n",
    "                int_val += rom_val[s[i]]\n",
    "        return int_val\n",
    "\n",
    "print(conv_rom_int().roman_to_int('LXIII'))\n",
    "print(conv_rom_int().roman_to_int('CDL'))\n",
    "print(conv_rom_int().roman_to_int('CV'))"
   ]
  },
  {
   "cell_type": "markdown",
   "metadata": {},
   "source": [
    "Q3. Write the Python class to find the validity of the string of the\n",
    "parentheses, '(', ')', '{', '}', '[' and '] and the brackets must be closed\n",
    "in the correct order, example - \"()\" and \"()[]{}\" are valid but \"[)\",\n",
    "\"({[)]\" and \"{{{\" are invalid.\n"
   ]
  },
  {
   "cell_type": "code",
   "execution_count": 1,
   "metadata": {},
   "outputs": [
    {
     "name": "stdout",
     "output_type": "stream",
     "text": [
      "True\n",
      "False\n",
      "True\n"
     ]
    }
   ],
   "source": [
    "class paranthesis_chk:\n",
    "    def correct_para(self, str1):\n",
    "        stack = []\n",
    "        pchar = {\"(\": \")\", \"{\": \"}\", \"[\": \"]\"}\n",
    "        \n",
    "        for x in str1:\n",
    "            if x in pchar:\n",
    "                stack.append(x)\n",
    "            elif len(stack) == 0 or pchar[stack.pop()] != x:\n",
    "                return False\n",
    "        return len(stack) == 0\n",
    "\n",
    "print(paranthesis_chk().correct_para(\"(){}[]\"))\n",
    "print(paranthesis_chk().correct_para(\"()[{)}\"))\n",
    "print(paranthesis_chk().correct_para(\"()\"))"
   ]
  },
  {
   "cell_type": "markdown",
   "metadata": {},
   "source": [
    "Q4. Write the Python class to get all possible unique subsets from a set\n",
    "of distinct integers?\n",
    "\n",
    "    Input - [4, 5, 6]\n",
    "    Output - [[], [6], [5], [5, 6], [4], [4, 6], [4, 5], [4, 5, 6]]"
   ]
  },
  {
   "cell_type": "code",
   "execution_count": 62,
   "metadata": {},
   "outputs": [
    {
     "name": "stdout",
     "output_type": "stream",
     "text": [
      "All possible unique subsets from a set of distinct integers are: \n",
      "[[], [6], [5], [5, 6], [4], [4, 6], [4, 5], [4, 5, 6]]\n"
     ]
    }
   ],
   "source": [
    "class subset_cl:\n",
    "    def sub_sets(self, sset):\n",
    "        return self.subsetsRecur([], sorted(sset))\n",
    "    \n",
    "    def subsetsRecur(self, current, sset):\n",
    "        if sset:\n",
    "            return self.subsetsRecur(current, sset[1:]) + self.subsetsRecur(current + [sset[0]], sset[1:])\n",
    "        return [current]\n",
    "\n",
    "print(\"All possible unique subsets from a set of distinct integers are: \")\n",
    "print(subset_cl().sub_sets([4,5,6]))"
   ]
  },
  {
   "cell_type": "markdown",
   "metadata": {},
   "source": [
    "Q5. Write the Python class to find a pair of elements (indices of the two\n",
    "numbers) from a given array whose sum equals the specific target\n",
    "number?\n",
    "\n",
    "    Input: numbers- [10,20,10,40,50,60,70], target=50\n",
    "    Output- 3, 4"
   ]
  },
  {
   "cell_type": "code",
   "execution_count": 61,
   "metadata": {},
   "outputs": [
    {
     "name": "stdout",
     "output_type": "stream",
     "text": [
      "Pair of elements whose sum equals the target number is: \n",
      "3 4\n"
     ]
    }
   ],
   "source": [
    "class play_indices():\n",
    "    def find_indicies(self, l, t):\n",
    "        prev = 0\n",
    "        for idx, x in enumerate(l):\n",
    "            if prev+x == t:\n",
    "                print(idx-1, idx)\n",
    "        prev = x\n",
    "\n",
    "lst = [10,20,10,40,50,60,70]\n",
    "target = 50        \n",
    "print(\"Pair of elements whose sum equals the target number is: \")\n",
    "play_indices().find_indicies(lst,target)"
   ]
  },
  {
   "cell_type": "markdown",
   "metadata": {},
   "source": [
    "Q6. Write the Python class to find the three elements that sum to zero\n",
    "from the set of n real numbers?\n",
    "\n",
    "    Input array- [-25, -10, -7, -3, 2, 4, 8, 10]\n",
    "    Output - [[-10, 2, 8], [-7, -3, 10]]\n"
   ]
  },
  {
   "cell_type": "code",
   "execution_count": 58,
   "metadata": {},
   "outputs": [
    {
     "name": "stdout",
     "output_type": "stream",
     "text": [
      "The three elements that sum to zero:  [[2, -10, 8], [-3, -7, 10]]\n"
     ]
    }
   ],
   "source": [
    " class sum_zero():\n",
    "    def three_digits(self, arr):\n",
    "        lst = []\n",
    "        append = []\n",
    "        n = len(l)\n",
    "        found = False\n",
    "        for i in range(n - 1): \n",
    "            s = set() \n",
    "            for j in range(i + 1, n): \n",
    "                x = -(arr[i] + arr[j]) \n",
    "                if x in s: \n",
    "                    temp = [x, arr[i], arr[j]]\n",
    "                    lst.append(temp)\n",
    "                    found = True\n",
    "                else: \n",
    "                    s.add(arr[j]) \n",
    "        if found == False: \n",
    "            print(\"No Triplet Found\") \n",
    "        return lst\n",
    "\n",
    "l = [-25, -10, -7, -3, 2, 4, 8, 10]\n",
    "print(\"The three elements that sum to zero: \", sum_zero().three_digits(l))    "
   ]
  },
  {
   "cell_type": "markdown",
   "metadata": {},
   "source": [
    "Q7. Write the Python class to implement pow(x, n)?"
   ]
  },
  {
   "cell_type": "code",
   "execution_count": 57,
   "metadata": {},
   "outputs": [
    {
     "name": "stdout",
     "output_type": "stream",
     "text": [
      "Power is 27\n"
     ]
    }
   ],
   "source": [
    "class power_solution():\n",
    "    def power_cal(self, x, n):\n",
    "        result = 1\n",
    "        \n",
    "        for i in range(n):\n",
    "            result = result * x\n",
    "        \n",
    "        return result\n",
    "    \n",
    "print(\"Power is\", power_solution().power_cal(3,3))    "
   ]
  },
  {
   "cell_type": "markdown",
   "metadata": {},
   "source": [
    "Q8. Write the Python class which has two methods get_String and\n",
    "print_String. get_String accept the string from the user and \n",
    "print_String print the string in upper case."
   ]
  },
  {
   "cell_type": "code",
   "execution_count": 38,
   "metadata": {},
   "outputs": [
    {
     "name": "stdout",
     "output_type": "stream",
     "text": [
      "Enter a string: Hello\n",
      "You entered HELLO\n"
     ]
    }
   ],
   "source": [
    "class string_fun():\n",
    "        \n",
    "    def get_string(self):\n",
    "        self.str = input(\"Enter a string: \")\n",
    "    \n",
    "    def print_string(self):\n",
    "        \n",
    "        print(\"You entered\", self.str.upper())\n",
    "\n",
    "s = string_fun()\n",
    "s.get_string()\n",
    "s.print_string()"
   ]
  },
  {
   "cell_type": "markdown",
   "metadata": {},
   "source": [
    "Q9. Write the Python class named Rectangle constructed by a length\n",
    "and width and the method which will compute the area of the\n",
    "rectangle?"
   ]
  },
  {
   "cell_type": "code",
   "execution_count": 56,
   "metadata": {},
   "outputs": [
    {
     "name": "stdout",
     "output_type": "stream",
     "text": [
      "Area of Reactangle is:  20\n"
     ]
    }
   ],
   "source": [
    "class rectangle:\n",
    "    def __init__(self, l, w):\n",
    "        self.l = l\n",
    "        self.w = w\n",
    "        \n",
    "    def area(self):\n",
    "        return self.l*self.w\n",
    "    \n",
    "print(\"Area of Reactangle is: \", rectangle(4,5).area())"
   ]
  },
  {
   "cell_type": "markdown",
   "metadata": {},
   "source": [
    "Q10. Write the Python class named Circle constructed by the radius\n",
    "and two methods which will compute the area and perimeter of\n",
    "the circle?"
   ]
  },
  {
   "cell_type": "code",
   "execution_count": 55,
   "metadata": {},
   "outputs": [
    {
     "name": "stdout",
     "output_type": "stream",
     "text": [
      "Area of Circle is:  154.0\n",
      "Perimeter of Circle is:  44.0\n"
     ]
    }
   ],
   "source": [
    "class circle:\n",
    "    def __init__(self, r):\n",
    "        self.r = r\n",
    "        \n",
    "    def area(self):\n",
    "        return 22/7*self.r*self.r\n",
    "    \n",
    "    def perimeter(self):\n",
    "        return 2*22/7*self.r\n",
    "    \n",
    "print(\"Area of Circle is: \", circle(7).area())\n",
    "print(\"Perimeter of Circle is: \", circle(7).perimeter())"
   ]
  },
  {
   "cell_type": "markdown",
   "metadata": {},
   "source": [
    "Q11. Write the Python program to get the class name of an instance in\n",
    "Python?"
   ]
  },
  {
   "cell_type": "code",
   "execution_count": 46,
   "metadata": {},
   "outputs": [
    {
     "name": "stdout",
     "output_type": "stream",
     "text": [
      "Class is int\n",
      "Class is str\n",
      "Class is float\n"
     ]
    }
   ],
   "source": [
    "a = 3\n",
    "b = 'How are you'\n",
    "c = 3.45\n",
    "print(\"Class is\", type(a).__name__)\n",
    "print(\"Class is\",type(b).__name__)\n",
    "print(\"Class is\",type(c).__name__)"
   ]
  },
  {
   "cell_type": "markdown",
   "metadata": {},
   "source": [
    "Q12. Write the Python program to count the number of students of\n",
    "individual class?\n",
    "\n",
    "    Sample dataclasses = (\n",
    "    ('V', 1),\n",
    "    ('VI', 1),\n",
    "    ('V', 2),\n",
    "    ('VI', 2),\n",
    "    ('VI', 3),\n",
    "    ('VII', 1),\n",
    "    )\n",
    "    Expected OutputCounter({'VI': 3, 'V': 2, 'VII': 1})"
   ]
  },
  {
   "cell_type": "code",
   "execution_count": 52,
   "metadata": {},
   "outputs": [
    {
     "name": "stdout",
     "output_type": "stream",
     "text": [
      "{'V': 2, 'VI': 3, 'VII': 1}\n"
     ]
    }
   ],
   "source": [
    "t = (\n",
    "('V', 1),\n",
    "('VI', 1),\n",
    "('V', 2),\n",
    "('VI', 2),\n",
    "('VI', 3),\n",
    "('VII', 1),\n",
    ")\n",
    "\n",
    "d = dict(t)\n",
    "print(d)"
   ]
  },
  {
   "cell_type": "markdown",
   "metadata": {},
   "source": [
    "## Great Job!"
   ]
  }
 ],
 "metadata": {
  "kernelspec": {
   "display_name": "Python 3",
   "language": "python",
   "name": "python3"
  },
  "language_info": {
   "codemirror_mode": {
    "name": "ipython",
    "version": 3
   },
   "file_extension": ".py",
   "mimetype": "text/x-python",
   "name": "python",
   "nbconvert_exporter": "python",
   "pygments_lexer": "ipython3",
   "version": "3.7.4"
  }
 },
 "nbformat": 4,
 "nbformat_minor": 2
}
