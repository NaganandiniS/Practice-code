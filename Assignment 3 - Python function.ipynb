{
 "cells": [
  {
   "cell_type": "markdown",
   "metadata": {},
   "source": [
    "## Problem Statement"
   ]
  },
  {
   "cell_type": "markdown",
   "metadata": {},
   "source": [
    "Q.1 Write a function to compute 5/0 and use try/except to catch the exceptions."
   ]
  },
  {
   "cell_type": "code",
   "execution_count": 1,
   "metadata": {},
   "outputs": [
    {
     "name": "stdout",
     "output_type": "stream",
     "text": [
      "Can't divide a number by zero!\n"
     ]
    }
   ],
   "source": [
    "try:\n",
    "    val = 5/0\n",
    "except:\n",
    "    print(\"Can't divide a number by zero!\")"
   ]
  },
  {
   "cell_type": "markdown",
   "metadata": {},
   "source": [
    "Q.2 Implement a Python program to generate all sentences where subject is in [\"Americans\",\n",
    "\"Indians\"] and verb is in [\"Play\", \"watch\"] and the object is in [\"Baseball\",\"cricket\"].\n",
    "\n",
    "    Hint: Subject,Verb and Object should be declared in the program as shown below.\n",
    "    subjects=[\"Americans \",\"Indians\"]\n",
    "    verbs=[\"play\",\"watch\"]\n",
    "    objects=[\"Baseball\",\"Cricket\"]\n",
    "\n",
    "    Output should come as below:\n",
    "    Americans play Baseball.\n",
    "    Americans play Cricket.\n",
    "    Americans watch Baseball.\n",
    "    Americans watch Cricket.\n",
    "    Indians play Baseball.\n",
    "    Indians play Cricket.\n",
    "    Indians watch Baseball.\n",
    "    Indians watch Cricket."
   ]
  },
  {
   "cell_type": "code",
   "execution_count": 4,
   "metadata": {},
   "outputs": [
    {
     "name": "stdout",
     "output_type": "stream",
     "text": [
      "Americans play Baseball.\n",
      "Americans play Cricket.\n",
      "Americans watch Baseball.\n",
      "Americans watch Cricket.\n",
      "Indians play Baseball.\n",
      "Indians play Cricket.\n",
      "Indians watch Baseball.\n",
      "Indians watch Cricket.\n"
     ]
    }
   ],
   "source": [
    "sub=[\"Americans\",\"Indians\"]\n",
    "verbs=[\"play\",\"watch\"]\n",
    "obj=[\"Baseball\",\"Cricket\"]\n",
    "\n",
    "for x in sub:\n",
    "    for y in verbs:\n",
    "        for z in obj:\n",
    "            print(x+\" \"+y+\" \"+z+\".\")"
   ]
  },
  {
   "cell_type": "markdown",
   "metadata": {},
   "source": [
    "Q.3 Write a function so that the columns of the output matrix are powers of the input vector.\n",
    "The order of the powers is determined by the increasing boolean argument. Specifically, when\n",
    "increasing is False, the i-th output column is the input vector raised element-wise to the power\n",
    "of N - i - 1.\n",
    "\n",
    "    HINT: Such a matrix with a geometric progression in each row is named for Alexandre Theophile Vandermonde."
   ]
  },
  {
   "cell_type": "code",
   "execution_count": 14,
   "metadata": {},
   "outputs": [
    {
     "name": "stdout",
     "output_type": "stream",
     "text": [
      "The input array is: [1 2 3 4 5]\n",
      "Number of columns in output matrix: 3\n",
      "Matrix in decreasing order of powers:\n",
      " [[ 1  1  1]\n",
      " [ 4  2  1]\n",
      " [ 9  3  1]\n",
      " [16  4  1]\n",
      " [25  5  1]]\n",
      "Matrix in increasing order of powers:\n",
      " [[ 1  1  1]\n",
      " [ 1  2  4]\n",
      " [ 1  3  9]\n",
      " [ 1  4 16]\n",
      " [ 1  5 25]]\n"
     ]
    }
   ],
   "source": [
    "import numpy as np\n",
    "   \n",
    "def van_matrix(vec, n, increasing=False):\n",
    "    \n",
    "    if not increasing:\n",
    "        op = np.array([x**(n-1-i) for x in vec for i in range(n)]).reshape(vec.size,n)\n",
    "    elif increasing:\n",
    "        op = np.array([x**i for x in vec for i in range(n)]).reshape(vec.size,n)\n",
    "    \n",
    "    return op\n",
    "\n",
    "input = np.array([1,2,3,4,5])\n",
    "cols = 3\n",
    "op_dec = van_matrix(input,cols,False)\n",
    "op_inc = van_matrix(input,cols,True)\n",
    "\n",
    "print(\"The input array is:\",input)\n",
    "print(\"Number of columns in output matrix:\",cols)\n",
    "print(\"Matrix in decreasing order of powers:\\n\",op_dec)\n",
    "print(\"Matrix in increasing order of powers:\\n\",op_inc)\n"
   ]
  }
 ],
 "metadata": {
  "kernelspec": {
   "display_name": "Python 3",
   "language": "python",
   "name": "python3"
  },
  "language_info": {
   "codemirror_mode": {
    "name": "ipython",
    "version": 3
   },
   "file_extension": ".py",
   "mimetype": "text/x-python",
   "name": "python",
   "nbconvert_exporter": "python",
   "pygments_lexer": "ipython3",
   "version": "3.7.4"
  }
 },
 "nbformat": 4,
 "nbformat_minor": 2
}
