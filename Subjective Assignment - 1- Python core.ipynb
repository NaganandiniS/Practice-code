{
 "cells": [
  {
   "cell_type": "markdown",
   "metadata": {},
   "source": [
    "Q1. Write a Python program to get the string from the given string where\n",
    "all the occurrence of its first char has been changed to '$,' except first\n",
    "char itself?\n",
    "\n",
    "    Sample String: 'prospect'\n",
    "    Expected Result : 'pros$ect'\n"
   ]
  },
  {
   "cell_type": "code",
   "execution_count": 11,
   "metadata": {},
   "outputs": [
    {
     "name": "stdout",
     "output_type": "stream",
     "text": [
      "Enter a stringprospect\n",
      "pros$ect\n"
     ]
    }
   ],
   "source": [
    "s = input(\"Enter a string: \")\n",
    "first = s[0]\n",
    "op = s.replace(first,\"$\")\n",
    "op2 = op.replace(\"$\", first,1)\n",
    "print(op2)"
   ]
  },
  {
   "cell_type": "markdown",
   "metadata": {},
   "source": [
    "Q2. Write a Python program to get the single string from the two given\n",
    "strings, and separated by the space and swap the first two characters of\n",
    "each string?\n",
    "\n",
    "    Sample String : 'abc', 'xyz'.\n",
    "    Expected Result: 'xyc abz'"
   ]
  },
  {
   "cell_type": "code",
   "execution_count": 10,
   "metadata": {},
   "outputs": [
    {
     "name": "stdout",
     "output_type": "stream",
     "text": [
      "Enter first stringabc\n",
      "Enter second stringxyz\n",
      "xyc abz\n"
     ]
    }
   ],
   "source": [
    "s1 = input(\"Enter first string: \")\n",
    "s2 = input(\"Enter second string: \")\n",
    "first = s1[0:2]\n",
    "second = s2[0:2]\n",
    "final1 = s1.replace(first,second,1)\n",
    "final2 = s2.replace(second,first,1)\n",
    "final = final1+\" \"+final2\n",
    "print(final)"
   ]
  },
  {
   "cell_type": "markdown",
   "metadata": {},
   "source": [
    "Q3. Write the Python program to add 'ing' at the end of the given string\n",
    "(length of the string should be at least 3). If given string already ends\n",
    "with 'ing,' then add 'ly' instead. If string length of the given string is less\n",
    "than 3, leave it unchanged?\n",
    "\n",
    "\n",
    "    Sample string: ' abc '\n",
    "    Expected result: ' abcing '\n",
    "    Sample string: ' string '\n",
    "    Expected result: ' stringly '\n"
   ]
  },
  {
   "cell_type": "code",
   "execution_count": 44,
   "metadata": {},
   "outputs": [
    {
     "name": "stdout",
     "output_type": "stream",
     "text": [
      "Enter a stringeat\n",
      "eating\n"
     ]
    }
   ],
   "source": [
    "def add_ing_ly():\n",
    "    s = input(\"Enter a string: \")\n",
    "    s_len = len(s)\n",
    "    last = s[:-4:-1]\n",
    "    first = s[-4::-1]\n",
    "    last1 = last[::-1]\n",
    "    first1 = first[::-1]\n",
    "\n",
    "    if s_len < 3:\n",
    "        print(s)\n",
    "    else:\n",
    "        if last1 == 'ing':\n",
    "            op = first1+'ly'\n",
    "        else:\n",
    "            op = s+'ing'\n",
    "        print(op)\n",
    "\n",
    "add_ing_ly()"
   ]
  },
  {
   "cell_type": "code",
   "execution_count": 45,
   "metadata": {},
   "outputs": [
    {
     "name": "stdout",
     "output_type": "stream",
     "text": [
      "Enter a stringHi\n",
      "Hi\n"
     ]
    }
   ],
   "source": [
    "add_ing_ly()"
   ]
  },
  {
   "cell_type": "code",
   "execution_count": 46,
   "metadata": {},
   "outputs": [
    {
     "name": "stdout",
     "output_type": "stream",
     "text": [
      "Enter a stringbring\n",
      "brly\n"
     ]
    }
   ],
   "source": [
    "add_ing_ly()"
   ]
  },
  {
   "cell_type": "markdown",
   "metadata": {},
   "source": [
    "Q4. Write the Python program to find the first appearance of the\n",
    "substring 'not' and 'poor' from the given string, if 'not' follows the 'poor',\n",
    "replace the whole 'not'...' poor' substring with 'good'.Return the resulting\n",
    "string.\n",
    "\n",
    "    Sample string: 'The lyrics are not that poor!'\n",
    "    'The lyrics are poor!'\n",
    "    Expected Result: 'The lyrics are good!'\n",
    "    'The lyrics are poor!'"
   ]
  },
  {
   "cell_type": "code",
   "execution_count": 52,
   "metadata": {},
   "outputs": [
    {
     "name": "stdout",
     "output_type": "stream",
     "text": [
      "The lyrics are good!\n",
      "The lyrics are poor!\n"
     ]
    }
   ],
   "source": [
    "def not_poor(s):\n",
    "    my_not = s.find('not')\n",
    "    my_poor = s.find('poor')\n",
    "    if my_not != -1:\n",
    "        first = s[:my_not]\n",
    "        final = first + 'good!'\n",
    "        print(final)\n",
    "    else:\n",
    "        print(s)\n",
    "\n",
    "not_poor('The lyrics are not that poor!')\n",
    "not_poor('The lyrics are poor!')"
   ]
  },
  {
   "cell_type": "markdown",
   "metadata": {},
   "source": [
    "Q5. Write the Python program to remove the characters which have odd\n",
    "index values of a given string."
   ]
  },
  {
   "cell_type": "code",
   "execution_count": 63,
   "metadata": {},
   "outputs": [
    {
     "name": "stdout",
     "output_type": "stream",
     "text": [
      "hae\n"
     ]
    }
   ],
   "source": [
    "s = 'heaven'\n",
    "op = ''\n",
    "for idx, j in enumerate(s):\n",
    "    if (idx%2 == 0):\n",
    "        op = op+j\n",
    "print(op)"
   ]
  },
  {
   "cell_type": "markdown",
   "metadata": {},
   "source": [
    "Q6. Write the python program to print the following floating numbers up\n",
    "to 2 decimal places?"
   ]
  },
  {
   "cell_type": "code",
   "execution_count": 64,
   "metadata": {},
   "outputs": [
    {
     "name": "stdout",
     "output_type": "stream",
     "text": [
      "2.45\n"
     ]
    }
   ],
   "source": [
    "num = 2.4536278\n",
    "print(\"%.2f\" % num)"
   ]
  },
  {
   "cell_type": "markdown",
   "metadata": {},
   "source": [
    "Q7. Write the Python program to format a number with a percentage?"
   ]
  },
  {
   "cell_type": "code",
   "execution_count": 69,
   "metadata": {},
   "outputs": [
    {
     "name": "stdout",
     "output_type": "stream",
     "text": [
      "Number with percentage: 34.00%\n",
      "Number with percentage: 2300.00%\n"
     ]
    }
   ],
   "source": [
    "x = 0.34\n",
    "print(\"Number with percentage: \"+\"{:.2%}\".format(x));\n",
    "y = 23\n",
    "print(\"Number with percentage: \"+\"{:.2%}\".format(y));"
   ]
  },
  {
   "cell_type": "markdown",
   "metadata": {},
   "source": [
    "Q8. Write the Python program to count occurrences of a substring in a\n",
    "String?"
   ]
  },
  {
   "cell_type": "code",
   "execution_count": 73,
   "metadata": {},
   "outputs": [
    {
     "name": "stdout",
     "output_type": "stream",
     "text": [
      "occurrences of a substring in above string is:  2\n"
     ]
    }
   ],
   "source": [
    "x = \"Books are good. Good books are easily available. Bad books are also available\"\n",
    "y = 'books'\n",
    "print('occurrences of a substring in above string is: ', x.count('books'))"
   ]
  },
  {
   "cell_type": "markdown",
   "metadata": {},
   "source": [
    "Q9. Write the Python program to count repeated characters in a string.\n",
    "\n",
    "    Sample string: ' thequickbrownjumpsoverthelazydog '\n",
    "    \n",
    "    Expected output:\n",
    "    o 3\n",
    "    e 3\n",
    "    u 2\n",
    "    h 2\n",
    "    r 2\n",
    "    t 2"
   ]
  },
  {
   "cell_type": "code",
   "execution_count": 85,
   "metadata": {},
   "outputs": [
    {
     "name": "stdout",
     "output_type": "stream",
     "text": [
      "o 3\n",
      "u 2\n",
      "t 2\n",
      "h 2\n",
      "e 3\n",
      "r 2\n"
     ]
    }
   ],
   "source": [
    "s =' thequickbrownjumpsoverthelazydog '\n",
    "unique = ''.join(set(s))\n",
    "\n",
    "for x in unique:\n",
    "    my_count = s.count(x)\n",
    "    if my_count > 1 and x!=' ':\n",
    "        print(x, s.count(x)) \n"
   ]
  },
  {
   "cell_type": "markdown",
   "metadata": {},
   "source": [
    "Q10. Write the Python program to print the square and cube symbol in\n",
    "the area of a rectangle and volume of a cylinder?\n",
    "\n",
    "    Sample outputThe area of the rectangle is 1256.66cm2\n",
    "    The volume of the cylinder is 1254.725cm3\n"
   ]
  },
  {
   "cell_type": "code",
   "execution_count": 86,
   "metadata": {},
   "outputs": [
    {
     "name": "stdout",
     "output_type": "stream",
     "text": [
      "The area of the rectangle is 1256.66cm²\n",
      "The volume of the cylinder is 1254.725cm³\n"
     ]
    }
   ],
   "source": [
    "area = 1256.66\n",
    "volume = 1254.725\n",
    "unit = 2\n",
    "print(\"The area of the rectangle is {0:.{1}f}cm\\u00b2\".format(area, unit))\n",
    "unit = 3\n",
    "print(\"The volume of the cylinder is {0:.{1}f}cm\\u00b3\".format(volume, unit))"
   ]
  },
  {
   "cell_type": "markdown",
   "metadata": {},
   "source": [
    "Q11. Write the Python program to check if a string contains all letters of\n",
    "the alphabet?"
   ]
  },
  {
   "cell_type": "code",
   "execution_count": 91,
   "metadata": {},
   "outputs": [
    {
     "name": "stdout",
     "output_type": "stream",
     "text": [
      "fvkljdsfsdfhgsghierkujjnferknerergrgr\n",
      "string DONOT contain all letters of the alphabet\n",
      "abcdefghijklmnopqrstuvwxyz\n",
      "string contains all letters of the alphabet\n"
     ]
    }
   ],
   "source": [
    "def string_check(test):\n",
    "    s = 'abcdefghijklmnopqrstuvwxyz'\n",
    "    test2 = test.lower() #in case the letters are in upper case \n",
    "    unique = ''.join(set(test2))\n",
    "\n",
    "    for x in s:\n",
    "        if (unique.find(x))== -1:\n",
    "            print(test)\n",
    "            print('string DONOT contain all letters of the alphabet')\n",
    "            break\n",
    "        else:\n",
    "            print(test)\n",
    "            print('string contains all letters of the alphabet')\n",
    "            break\n",
    "\n",
    "string_check('fvkljdsfsdfhgsghierkujjnferknerergrgr')\n",
    "string_check('abcdefghijklmnopqrstuvwxyz')"
   ]
  },
  {
   "cell_type": "markdown",
   "metadata": {},
   "source": [
    "Q12. Write the Python program to find the second most repeated word\n",
    "in a given string?"
   ]
  },
  {
   "cell_type": "code",
   "execution_count": 94,
   "metadata": {},
   "outputs": [
    {
     "name": "stdout",
     "output_type": "stream",
     "text": [
      "('good', 2)\n"
     ]
    }
   ],
   "source": [
    "def second_highest_word(str):\n",
    "    counts = dict()\n",
    "    words = str.split()\n",
    "\n",
    "    for x in words:\n",
    "        if x in counts:\n",
    "            counts[x] = counts[x] + 1\n",
    "        else:\n",
    "            counts[x] = 1\n",
    "\n",
    "    counts_x = sorted(counts.items(), key=lambda sec: sec[1])\n",
    "    return counts_x[-2]\n",
    "\n",
    "print(second_highest_word(\"books books books good bad good\"))"
   ]
  },
  {
   "cell_type": "markdown",
   "metadata": {},
   "source": [
    "Q13. Write the Python program to find the minimum window in the given\n",
    "string, which will contains all the characters of another given\n",
    "strings?\n",
    "\n",
    "    Example 1\n",
    "    Input : string1 = \" PRWSOERIUSFK \"\n",
    "    string2 = \" OSU \"\n",
    "    Output: Minimum window is \"OERIUS\""
   ]
  },
  {
   "cell_type": "code",
   "execution_count": 14,
   "metadata": {},
   "outputs": [
    {
     "name": "stdout",
     "output_type": "stream",
     "text": [
      "Smallest window is : \n",
      "fsklgjkkiwo\n"
     ]
    }
   ],
   "source": [
    "no_of_chars = 256\n",
    "def findSubString(string, pat):  \n",
    "  \n",
    "    len1 = len(string)  \n",
    "    len2 = len(pat)  \n",
    "\n",
    "    if len1 < len2:  \n",
    "      \n",
    "        print(\"Substring cannot be greater than the actual string\")  \n",
    "        return \"\"  \n",
    "  \n",
    "    hash_pat = [0] * no_of_chars \n",
    "    hash_str = [0] * no_of_chars  \n",
    "  \n",
    "    # store occurrence of characters of pattern  \n",
    "    for i in range(0, len2):  \n",
    "        hash_pat[ord(pat[i])] = hash_pat[ord(pat[i])]+1\n",
    "  \n",
    "    start, start_index, min_len = 0, -1, float('inf')  \n",
    "  \n",
    "    # start traversing the string  \n",
    "    count = 0 # count of characters  \n",
    "    for j in range(0, len1):  \n",
    "        # count occurrence of characters of string  \n",
    "        hash_str[ord(string[j])] += 1\n",
    "  \n",
    "        # If string's char matches with  \n",
    "        # pattern's char then increment count  \n",
    "        if (hash_pat[ord(string[j])] != 0 and\n",
    "            hash_str[ord(string[j])] <= \n",
    "            hash_pat[ord(string[j])]):  \n",
    "            count += 1\n",
    "  \n",
    "        # if all the characters are matched  \n",
    "        if count == len2:  \n",
    "          \n",
    "            # Try to minimize the window i.e., check if  \n",
    "            # any character is occurring more no. of times  \n",
    "            # than its occurrence in pattern, if yes  \n",
    "            # then remove it from starting and also remove  \n",
    "            # the useless characters.  \n",
    "            while (hash_str[ord(string[start])] >  \n",
    "                   hash_pat[ord(string[start])] or\n",
    "                   hash_pat[ord(string[start])] == 0):  \n",
    "              \n",
    "                if (hash_str[ord(string[start])] >  \n",
    "                    hash_pat[ord(string[start])]):  \n",
    "                    hash_str[ord(string[start])] -= 1\n",
    "                start += 1\n",
    "              \n",
    "            # update window size  \n",
    "            len_window = j - start + 1\n",
    "            if min_len > len_window:  \n",
    "              \n",
    "                min_len = len_window  \n",
    "                start_index = start  \n",
    "  \n",
    "    # If no window found  \n",
    "    if start_index == -1: \n",
    "        print(\"No such window exists\")  \n",
    "        return \"\"  \n",
    "      \n",
    "    # Return substring starting from start_index and length min_len\n",
    "    return string[start_index : start_index + min_len]  \n",
    "  \n",
    "# Driver code  \n",
    "if __name__ == \"__main__\": \n",
    "  \n",
    "    string = \"dfksdlsjfsjgfsklgjkkiwoeroyt\"\n",
    "    pat = \"fjwo\"\n",
    "  \n",
    "    print(\"Smallest window is : \") \n",
    "    print(findSubString(string, pat))"
   ]
  },
  {
   "cell_type": "markdown",
   "metadata": {},
   "source": [
    "Q14. Write the Python program to count number of substrings from a\n",
    "given string of lowercase alphabets with exactly k distinct (given)\n",
    "characters?\n",
    "\n",
    "    Input a string (lowercase alphabets): wolf\n",
    "    Input k: 4\n",
    "    Number of substrings with exactly 4 distinct characters: 1"
   ]
  },
  {
   "cell_type": "code",
   "execution_count": 15,
   "metadata": {},
   "outputs": [
    {
     "name": "stdout",
     "output_type": "stream",
     "text": [
      "Total substrings with exactly 4 distinct characters : 1\n"
     ]
    }
   ],
   "source": [
    "def countkDist(str1, k): \n",
    "    n = len(str1) \n",
    "      \n",
    "    # Initialize result \n",
    "    res = 0\n",
    "  \n",
    "    # To store count of characters from  \n",
    "    # 'a' to 'z'  \n",
    "    cnt = [0] * 27\n",
    "  \n",
    "    # Consider all substrings beginning  \n",
    "    # with str[i]  \n",
    "    for i in range(0, n): \n",
    "        dist_count = 0\n",
    "  \n",
    "        # Initializing array with 0  \n",
    "        cnt = [0] * 27\n",
    "  \n",
    "        # Consider all substrings between str[i..j]  \n",
    "        for j in range(i, n): \n",
    "              \n",
    "            # If this is a new character for this  \n",
    "            # substring, increment dist_count.  \n",
    "            if(cnt[ord(str1[j]) - 97] == 0): \n",
    "                dist_count += 1\n",
    "  \n",
    "            # Increment count of current character \n",
    "            cnt[ord(str1[j]) - 97] += 1\n",
    "  \n",
    "            # If distinct character count becomes k,  \n",
    "            # then increment result. \n",
    "            if(dist_count == k): \n",
    "                res += 1\n",
    "            if(dist_count > k): \n",
    "                break\n",
    "  \n",
    "    return res      \n",
    "  \n",
    "# Driver Code \n",
    "if __name__ == \"__main__\": \n",
    "    str1 = \"wolf\"\n",
    "    k = 4\n",
    "    print(\"Total substrings with exactly\", k,  \n",
    "           \"distinct characters : \", end = \"\") \n",
    "    print(countkDist(str1, k)) "
   ]
  },
  {
   "cell_type": "markdown",
   "metadata": {},
   "source": [
    "Q15. Write the Python program to count number of substrings with same\n",
    "first and last characters of the given string?\n",
    "\n",
    "    Input a string: abcd\n",
    "    4\n"
   ]
  },
  {
   "cell_type": "code",
   "execution_count": 20,
   "metadata": {},
   "outputs": [
    {
     "name": "stdout",
     "output_type": "stream",
     "text": [
      "Input a string: abcd\n",
      "4\n"
     ]
    }
   ],
   "source": [
    "def substrings(s): \n",
    "    result = 0; \n",
    "    n = len(s); \n",
    "    for i in range(n): \n",
    "        for j in range(i, n): \n",
    "            if (s[i] == s[j]): \n",
    "                result = result + 1\n",
    "    return result \n",
    "s = input(\"Input a string: \")\n",
    "print(substrings(s))"
   ]
  },
  {
   "cell_type": "markdown",
   "metadata": {},
   "source": [
    "# Great Job!"
   ]
  }
 ],
 "metadata": {
  "kernelspec": {
   "display_name": "Python 3",
   "language": "python",
   "name": "python3"
  },
  "language_info": {
   "codemirror_mode": {
    "name": "ipython",
    "version": 3
   },
   "file_extension": ".py",
   "mimetype": "text/x-python",
   "name": "python",
   "nbconvert_exporter": "python",
   "pygments_lexer": "ipython3",
   "version": "3.7.4"
  }
 },
 "nbformat": 4,
 "nbformat_minor": 2
}
