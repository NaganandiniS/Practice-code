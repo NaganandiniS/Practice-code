{
 "cells": [
  {
   "cell_type": "markdown",
   "metadata": {},
   "source": [
    "## Problem Statement"
   ]
  },
  {
   "cell_type": "markdown",
   "metadata": {},
   "source": [
    "Q.1 Write a Python Program to implement your own myreduce() function which works exactly like\n",
    "Python's built-in function reduce()\n"
   ]
  },
  {
   "cell_type": "code",
   "execution_count": 14,
   "metadata": {},
   "outputs": [
    {
     "data": {
      "text/plain": [
       "'sdfssdfsfsdfsdf'"
      ]
     },
     "execution_count": 14,
     "metadata": {},
     "output_type": "execute_result"
    }
   ],
   "source": [
    "def myreduce(func,lst):\n",
    "    first = lst[0]\n",
    "    for x in lst[1:]:\n",
    "        first = func(first,x)\n",
    "    return first\n",
    "\n",
    "lst =['sdfs','sdfsfsdf','sdf']\n",
    "myreduce(lambda a,b: a+b,lst)"
   ]
  },
  {
   "cell_type": "markdown",
   "metadata": {},
   "source": [
    "Q.2 Write a Python program to implement your own myfilter() function which works exactly like\n",
    "Python's built-in function filter()"
   ]
  },
  {
   "cell_type": "code",
   "execution_count": 19,
   "metadata": {},
   "outputs": [
    {
     "name": "stdout",
     "output_type": "stream",
     "text": [
      "[2, 4, 6, 8]\n"
     ]
    }
   ],
   "source": [
    "def myfilter(func,lst1):\n",
    "    mylist=[]\n",
    "    for x in lst1:\n",
    "        if func(x)==True:\n",
    "            mylist.append(x)\n",
    "    return mylist\n",
    "\n",
    "lst1 =[1,2,3,4,5,6,7,8]\n",
    "d = myfilter(lambda x: x%2==0,lst1)\n",
    "print(d)"
   ]
  },
  {
   "cell_type": "markdown",
   "metadata": {},
   "source": [
    "Q.3 Implement List comprehensions to produce the following lists.\n",
    "   Write List comprehensions to produce the following Lists\n",
    "   \n",
    "    ['A', 'C', 'A', 'D', 'G', 'I', ’L’, ‘ D’]\n",
    "   \n",
    "    ['x', 'xx', 'xxx', 'xxxx', 'y', 'yy', 'yyy', 'yyyy', 'z', 'zz', 'zzz', 'zzzz']\n",
    "\n",
    "    ['x', 'y', 'z', 'xx', 'yy', 'zz', 'xx', 'yy', 'zz', 'xxxx', 'yyyy', 'zzzz']\n",
    "    \n",
    "    [[2], [3], [4], [3], [4], [5], [4], [5], [6]]\n",
    "\n",
    "    [[2, 3, 4, 5], [3, 4, 5, 6], [4, 5, 6, 7], [5, 6, 7, 8]]\n",
    "\n",
    "    [(1, 1), (2, 1), (3, 1), (1, 2), (2, 2), (3, 2), (1, 3), (2, 3), (3, 3)]"
   ]
  },
  {
   "cell_type": "code",
   "execution_count": 20,
   "metadata": {},
   "outputs": [
    {
     "name": "stdout",
     "output_type": "stream",
     "text": [
      "['A', 'C', 'A', 'D', 'G', 'I', 'L', 'D']\n"
     ]
    }
   ],
   "source": [
    "str = 'ACADGILD'\n",
    "print(list(str))"
   ]
  },
  {
   "cell_type": "code",
   "execution_count": 21,
   "metadata": {},
   "outputs": [
    {
     "name": "stdout",
     "output_type": "stream",
     "text": [
      "['x', 'xx', 'xxx', 'xxxx', 'y', 'yy', 'yyy', 'yyyy', 'z', 'zz', 'zzz', 'zzzz']\n"
     ]
    }
   ],
   "source": [
    "my_list = ['x','y','z']\n",
    "out_list = []\n",
    "beta = ''\n",
    "for i in my_list:\n",
    "    alpha = i\n",
    "    beta = i\n",
    "    out_list.append(i)\n",
    "    for j in my_list:\n",
    "        beta = alpha + beta\n",
    "        out_list.append(beta)\n",
    "print(out_list)"
   ]
  },
  {
   "cell_type": "code",
   "execution_count": 22,
   "metadata": {},
   "outputs": [
    {
     "name": "stdout",
     "output_type": "stream",
     "text": [
      "['x', 'y', 'z', 'xx', 'yy', 'zz', 'xxx', 'yyy', 'zzz', 'xxxx', 'yyyy', 'zzzz']\n"
     ]
    }
   ],
   "source": [
    "l1 = [0,1,2,3]\n",
    "my_list = ['x','y','z']\n",
    "out_list = []\n",
    "my_list2 = ['x','y','z']\n",
    "\n",
    "for i in l1:\n",
    "    for idx, j in enumerate(my_list):\n",
    "        if i==0:\n",
    "            out_list.append(j)\n",
    "        else:\n",
    "            s = my_list2[idx]+my_list[idx]\n",
    "            my_list2.insert(idx,s)\n",
    "            n = idx + 1\n",
    "            my_list2.pop(n)\n",
    "            out_list.append(s)\n",
    "\n",
    "print(out_list)"
   ]
  },
  {
   "cell_type": "code",
   "execution_count": 23,
   "metadata": {},
   "outputs": [
    {
     "name": "stdout",
     "output_type": "stream",
     "text": [
      "[['2'], ['3'], ['4'], ['3'], ['4'], ['5'], ['4'], ['5'], ['6']]\n"
     ]
    }
   ],
   "source": [
    "#With list comprehension\n",
    "h_letters = [ list(letter) for letter in '234345456' ]\n",
    "print( h_letters)"
   ]
  },
  {
   "cell_type": "code",
   "execution_count": 24,
   "metadata": {},
   "outputs": [
    {
     "name": "stdout",
     "output_type": "stream",
     "text": [
      "[[2, 3, 4, 5], [3, 4, 5, 6], [4, 5, 6, 7], [5, 6, 7, 8]]\n"
     ]
    }
   ],
   "source": [
    "#With list comprehension\n",
    "my_list = [[(x),(x+1),(x+2),(x+3)] for x in [2,3,4,5]]\n",
    "print(my_list)"
   ]
  },
  {
   "cell_type": "code",
   "execution_count": 25,
   "metadata": {},
   "outputs": [
    {
     "name": "stdout",
     "output_type": "stream",
     "text": [
      "[(1, 1), (2, 1), (3, 1), (1, 2), (2, 2), (3, 2), (1, 3), (2, 3), (3, 3)]\n"
     ]
    }
   ],
   "source": [
    "#With list comprehension\n",
    "my_list = [((y),(x)) for x in [1, 2, 3] for y in [1, 2, 3]]\n",
    "print(my_list)"
   ]
  },
  {
   "cell_type": "markdown",
   "metadata": {},
   "source": [
    "Q.4 Implement a function longestWord() that takes a list of words and returns the longest one."
   ]
  },
  {
   "cell_type": "code",
   "execution_count": null,
   "metadata": {},
   "outputs": [],
   "source": [
    "#with list comprehension\n",
    "def longestWord()\n",
    "    w = input('Enter some words').split()\n",
    "    long = w[0]\n",
    "    op = max([x for x in w if len(x)>len(long)])\n",
    "    print('The longest word is:')\n",
    "    print(op)\n",
    "    \n",
    "longestWord()"
   ]
  },
  {
   "cell_type": "markdown",
   "metadata": {},
   "source": [
    "Q.5 Write a Python Program(with class concepts) to find the area of the triangle using the below\n",
    "formula.\n",
    "\n",
    "area = (s*(s-a)*(s-b)*(s-c)) ** 0.5\n",
    "\n",
    "Function to take the length of the sides of triangle from user should be defined in the parent\n",
    "class and function to calculate the area should be defined in subclass."
   ]
  },
  {
   "cell_type": "code",
   "execution_count": 49,
   "metadata": {},
   "outputs": [
    {
     "name": "stdout",
     "output_type": "stream",
     "text": [
      "Enter first side: 3\n",
      "Enter second side: 4\n",
      "Enter third side: 5\n",
      "3 4 5\n",
      "The area of triangle is:  6.0\n"
     ]
    }
   ],
   "source": [
    "class sides_init:\n",
    "    def __init__(self, a, b, c):\n",
    "        self.a = a\n",
    "        self.b = b\n",
    "        self.c = c\n",
    "        \n",
    "    def __str__(self):\n",
    "        return(\"You are in Parent class\")\n",
    "    \n",
    "class triangle(sides_init):\n",
    "    def __init__(self, *args, **kwargs):\n",
    "        super(triangle, self).__init__(*args, **kwargs)\n",
    "        \n",
    "    def triangle_area(self):\n",
    "        print(self.a,self.b,self.c)\n",
    "        s = (self.a + self.b + self.c)/2\n",
    "        inter = s*(s-self.a)*(s-self.b)*(s-self.c)\n",
    "        area = pow(inter, 0.5)\n",
    "        return area\n",
    "    \n",
    "a = int(input(\"Enter first side: \"))\n",
    "b = int(input(\"Enter second side: \"))\n",
    "c = int(input(\"Enter third side: \"))\n",
    "    \n",
    "abc = triangle(a,b,c)\n",
    "area = abc.triangle_area()\n",
    "if area == 0:\n",
    "    print(\"Unable to form triangle with the given sides\")\n",
    "else:    \n",
    "    print(\"The area of triangle is: \", area)"
   ]
  },
  {
   "cell_type": "markdown",
   "metadata": {},
   "source": [
    "Q.6 Write a function filter_long_words() that takes a list of words and an integer n and returns the list\n",
    "of words that are longer than n."
   ]
  },
  {
   "cell_type": "code",
   "execution_count": 8,
   "metadata": {},
   "outputs": [
    {
     "name": "stdout",
     "output_type": "stream",
     "text": [
      "Enter some words: Enter some words\n",
      "Enter an integer: 4\n",
      "['Enter', 'words']\n"
     ]
    }
   ],
   "source": [
    "def filter_long_words():\n",
    "    w = input('Enter some words: ').split()\n",
    "    i = int(input('Enter an integer: '))\n",
    "    l = []\n",
    "    for x in w:\n",
    "        if (len(x)>i):\n",
    "            l.append(x)\n",
    "    return l\n",
    "   \n",
    "lst = filter_long_words()\n",
    "print(lst)"
   ]
  },
  {
   "cell_type": "markdown",
   "metadata": {},
   "source": [
    "Q.7 Write a Python program using function concept that maps list of words into a list of integers\n",
    "representing the lengths of the corresponding words.\n",
    "    \n",
    "    Hint: If a list [ ab,cde,erty] is passed on to the python function output should come as [2,3,4]\n",
    "    Here 2,3 and 4 are the lengths of the words in the list."
   ]
  },
  {
   "cell_type": "code",
   "execution_count": 9,
   "metadata": {},
   "outputs": [
    {
     "name": "stdout",
     "output_type": "stream",
     "text": [
      "Enter some words: ab cde erty\n",
      "[2, 3, 4]\n"
     ]
    }
   ],
   "source": [
    "def length_map():\n",
    "    w = input('Enter some words: ').split()\n",
    "    l = []\n",
    "    for x in w:\n",
    "        l.append(len(x))\n",
    "    return l\n",
    "lst = length_map()\n",
    "print(lst)"
   ]
  },
  {
   "cell_type": "markdown",
   "metadata": {},
   "source": [
    "Q.8 Write a Python function which takes a character (i.e. a string of length 1) and returns True if it is\n",
    "a vowel, False otherwise."
   ]
  },
  {
   "cell_type": "code",
   "execution_count": 12,
   "metadata": {},
   "outputs": [
    {
     "name": "stdout",
     "output_type": "stream",
     "text": [
      "Enter an alphabet: a\n",
      "True\n"
     ]
    }
   ],
   "source": [
    "def vowel_chk():\n",
    "    v = ['a','e','i','o','u']\n",
    "    c = input(\"Enter an alphabet: \")\n",
    "    if c in v:\n",
    "        print(\"True\")\n",
    "    else:\n",
    "         print(\"False\")\n",
    "\n",
    "vowel_chk()"
   ]
  },
  {
   "cell_type": "code",
   "execution_count": 13,
   "metadata": {},
   "outputs": [
    {
     "name": "stdout",
     "output_type": "stream",
     "text": [
      "Enter an alphabet: b\n",
      "False\n"
     ]
    }
   ],
   "source": [
    "vowel_chk()"
   ]
  },
  {
   "cell_type": "markdown",
   "metadata": {},
   "source": [
    "## Great job!"
   ]
  }
 ],
 "metadata": {
  "kernelspec": {
   "display_name": "Python 3",
   "language": "python",
   "name": "python3"
  },
  "language_info": {
   "codemirror_mode": {
    "name": "ipython",
    "version": 3
   },
   "file_extension": ".py",
   "mimetype": "text/x-python",
   "name": "python",
   "nbconvert_exporter": "python",
   "pygments_lexer": "ipython3",
   "version": "3.7.4"
  }
 },
 "nbformat": 4,
 "nbformat_minor": 2
}
